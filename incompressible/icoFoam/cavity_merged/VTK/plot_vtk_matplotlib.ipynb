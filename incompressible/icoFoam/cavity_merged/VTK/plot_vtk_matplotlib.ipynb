{
 "cells": [
  {
   "cell_type": "markdown",
   "metadata": {},
   "source": [
    "# Test data reading with plot_vtk_matplotlib"
   ]
  },
  {
   "cell_type": "code",
   "execution_count": 20,
   "metadata": {
    "collapsed": false
   },
   "outputs": [],
   "source": [
    "%matplotlib inline\n",
    "import dolfin as df\n",
    "import mshr\n",
    "import numpy as np\n",
    "import plot_vtk_matplotlib as pvm\n",
    "from vtk.util.numpy_support import vtk_to_numpy\n",
    "import matplotlib as mpl\n",
    "from mpl_toolkits.mplot3d import Axes3D\n",
    "import matplotlib.pyplot as plt\n",
    "from scipy.interpolate import griddata"
   ]
  },
  {
   "cell_type": "code",
   "execution_count": 50,
   "metadata": {
    "collapsed": false
   },
   "outputs": [
    {
     "name": "stdout",
     "output_type": "stream",
     "text": [
      ".ipynb_checkpoints\n",
      "cavity_0.vtk\n",
      "cavity_100.vtk\n",
      "cavity_150.vtk\n",
      "cavity_200.vtk\n",
      "cavity_250.vtk\n",
      "cavity_300.vtk\n",
      "cavity_350.vtk\n",
      "cavity_400.vtk\n",
      "cavity_450.vtk\n",
      "cavity_50.vtk\n",
      "cavity_500.vtk\n",
      "fixedWalls\n",
      "frontAndBack\n",
      "movingWall\n"
     ]
    }
   ],
   "source": [
    "import os\n",
    "files = os.listdir(\".\")\n",
    "for f in files[:15]:\n",
    "    print(f)"
   ]
  },
  {
   "cell_type": "code",
   "execution_count": 43,
   "metadata": {
    "collapsed": true
   },
   "outputs": [],
   "source": [
    "def getData_pvm(filename):\n",
    "    vf_plot = pvm.plot_vtk_matplotlib(filename,z_max=1, z_min=-1, vtkfiletype=\"UnstructuredGrid\"  )\n",
    "    # Extract the data from the file\n",
    "    vf_plot.extract_data()\n",
    "    print \"PVM:\"\n",
    "    print vf_plot.reader.GetOutput().GetPoints()\n",
    "    nodes_vtk = vf_plot.reader.GetOutput().GetPoints().GetData()\n",
    "    data_arrays = vf_plot.reader.GetOutput().GetPointData()\n",
    "    pressure_vtk_array = data_arrays.GetArray(0) \n",
    "    speed_vtk_array = data_arrays.GetArray(1)\n",
    "    nodes = vtk_to_numpy(nodes_vtk)\n",
    "    p = vtk_to_numpy(pressure_vtk_array)\n",
    "    U  = vtk_to_numpy(speed_vtk_array)\n",
    "    return nodes, p, U"
   ]
  },
  {
   "cell_type": "code",
   "execution_count": 44,
   "metadata": {
    "collapsed": true
   },
   "outputs": [],
   "source": [
    "def getData_vtk(filename):\n",
    "    # load a vtk file as input\n",
    "    reader = vtk.vtkUnstructuredGridReader()\n",
    "    reader.SetFileName(filename)\n",
    "    reader.Update()\n",
    "    print \"VTK:\"\n",
    "    print reader.GetOutput().GetPoints()\n",
    "    # Get the coordinates of nodes in the mesh\n",
    "    nodes_vtk_array= reader.GetOutput().GetPoints().GetData()  \n",
    "    pressure_vtk_array = reader.GetOutput().GetPointData().GetArray(0)\n",
    "    speed_vtk_array = reader.GetOutput().GetPointData().GetArray(1)\n",
    "    nodes = vtk_to_numpy(nodes_vtk_array)\n",
    "    p = vtk_to_numpy(pressure_vtk_array)\n",
    "    U  = vtk_to_numpy(speed_vtk_array)\n",
    "    return nodes, p, U"
   ]
  },
  {
   "cell_type": "code",
   "execution_count": 46,
   "metadata": {
    "collapsed": true
   },
   "outputs": [],
   "source": [
    "def plot3D(nodes, a, vmin, vmax):\n",
    "    cmap = mpl.cm.seismic\n",
    "    color_map = plt.cm.get_cmap('plasma')\n",
    "    fig = plt.figure(figsize=(14,10))\n",
    "    ax = fig.add_subplot(111, projection='3d')\n",
    "    #for i in range(0,len(nodes),2):\n",
    "    splt = ax.scatter(nodes[:,0],nodes[:,1],nodes[:,2],s=60,\n",
    "                   c = a,\n",
    "                   cmap = color_map,\n",
    "                   vmin = vmin,\n",
    "                   vmax = vmax,\n",
    "                   marker='o')\n",
    "    ax.set_xlabel('X')\n",
    "    ax.set_ylabel('Y')\n",
    "    ax.set_zlabel('Z')\n",
    "    fig.colorbar(splt, shrink=0.5)\n",
    "    plt.show()"
   ]
  },
  {
   "cell_type": "code",
   "execution_count": 47,
   "metadata": {
    "collapsed": true
   },
   "outputs": [],
   "source": [
    "def extractFlatData(nodes, p, U):\n",
    "    merged = np.empty([len(nodes),6])\n",
    "    merged[:,0] = p\n",
    "    merged[:,1:3] = U[:,:2]\n",
    "    merged[:,3:] = nodes\n",
    "    # Merged z0 and z1 arrays should be same because of \n",
    "    # the model symmetry along z-axis\n",
    "    merged_z0 = merged[np.where(merged[:,5] == 0)]\n",
    "    merged_z1 = merged[np.where(merged[:,5] != 0)]\n",
    "    # Extract nodes, p and U arrays from z0 array\n",
    "    p = merged_z0[:,0]\n",
    "    U = merged_z0[:,1:3]\n",
    "    nodes = merged_z0[:,3:5]\n",
    "    return nodes, p, U\n",
    "\n",
    "def plot2D(nodes, a, vmin, vmax):     \n",
    "    # 2d plotting\n",
    "    fig = plt.figure(figsize=(8,6))\n",
    "    cmap = mpl.cm.seismic\n",
    "    color_map = plt.cm.get_cmap('plasma')\n",
    "    axes = plt.gca()\n",
    "    #axes.set_xlim([-.1,2.1])\n",
    "    #axes.set_ylim([-.01,0.11])\n",
    "    #plt.axis('off')\n",
    "    sc = plt.scatter(nodes[:,0],nodes[:,1],\n",
    "                     s=320,\n",
    "#                     color=cmap(a / a_max),\n",
    "                     c = a,\n",
    "                     cmap = color_map,\n",
    "                     vmin = vmin,\n",
    "                     vmax = vmax,\n",
    "                     linewidth=0, \n",
    "                     marker=\"s\")\n",
    "    plt.colorbar(sc)\n",
    "    fig.tight_layout()"
   ]
  },
  {
   "cell_type": "code",
   "execution_count": 49,
   "metadata": {
    "collapsed": false
   },
   "outputs": [
    {
     "name": "stdout",
     "output_type": "stream",
     "text": [
      "PVM:\n",
      "vtkPoints (0x70c08e0)\n",
      "  Debug: Off\n",
      "  Modified Time: 3919\n",
      "  Reference Count: 2\n",
      "  Registered Events: (none)\n",
      "  Data: 0x7c34740\n",
      "  Data Array Name: Points\n",
      "  Number Of Points: 882\n",
      "  Bounds: \n",
      "    Xmin,Xmax: (-1.01414e+27, 7.71994e+35)\n",
      "    Ymin,Ymax: (-1.01414e+27, 7.71994e+35)\n",
      "    Zmin,Zmax: (0, 2.0717e-32)\n",
      "\n",
      "\n",
      "VTK:\n",
      "vtkPoints (0x6e5fbe0)\n",
      "  Debug: Off\n",
      "  Modified Time: 4133\n",
      "  Reference Count: 2\n",
      "  Registered Events: (none)\n",
      "  Data: 0x7ae0240\n",
      "  Data Array Name: Points\n",
      "  Number Of Points: 882\n",
      "  Bounds: \n",
      "    Xmin,Xmax: (-1.01414e+27, 7.71994e+35)\n",
      "    Ymin,Ymax: (-1.01414e+27, 7.71994e+35)\n",
      "    Zmin,Zmax: (0, 2.0717e-32)\n",
      "\n",
      "\n",
      "(nan, nan)\n",
      "[[  0.00000000e+00   0.00000000e+00   0.00000000e+00]\n",
      " [  2.07651474e-32   0.00000000e+00   0.00000000e+00]\n",
      " [  2.07170006e-32   0.00000000e+00   0.00000000e+00]\n",
      " ..., \n",
      " [ -1.01414215e+27  -4.29492128e+08   2.07170006e-32]\n",
      " [  3.23715911e+17  -4.29492128e+08   2.07170006e-32]\n",
      " [ -4.29492128e+08  -4.29492128e+08   2.07170006e-32]]\n",
      "(nan, nan)\n"
     ]
    }
   ],
   "source": [
    "filename=\"cavity_50.vtk\"\n",
    "nodes, p, U = getData_pvm(filename)\n",
    "nodes_v, p_v, U_v = getData_vtk(filename)\n",
    "print(np.amin(p),np.amax(p))\n",
    "print nodes\n",
    "print(np.amin(p_v),np.amax(p_v))\n",
    "#vmin = -4e-06\n",
    "#vmax = 6e-06\n",
    "#plot3D(nodes,p, vmin, vmax)\n",
    "#nodes_half, p_half, U_half = extractFlatData(nodes, p, U)\n",
    "#plot2D(nodes_half,p_half, vmin, vmax)"
   ]
  },
  {
   "cell_type": "code",
   "execution_count": 3,
   "metadata": {
    "collapsed": true
   },
   "outputs": [],
   "source": [
    "filename=\"cavity_100.vtk\"\n",
    "# Load \n",
    "vf_plot = pvm.plot_vtk_matplotlib(filename,z_max=0.001, z_min=-0.001, vtkfiletype=\"UnstructuredGrid\"  )\n",
    "# Extract the data from the file\n",
    "vf_plot.extract_data()"
   ]
  },
  {
   "cell_type": "code",
   "execution_count": 4,
   "metadata": {
    "collapsed": true
   },
   "outputs": [],
   "source": [
    "import vtk\n",
    "reader = vtk.vtkUnstructuredGridReader()\n",
    "reader.SetFileName(filename)\n",
    "reader.Update()"
   ]
  },
  {
   "cell_type": "code",
   "execution_count": 5,
   "metadata": {
    "collapsed": false
   },
   "outputs": [
    {
     "name": "stdout",
     "output_type": "stream",
     "text": [
      "vtkPointData (0x6b54d40)\n",
      "  Debug: Off\n",
      "  Modified Time: 347\n",
      "  Reference Count: 2\n",
      "  Registered Events: (none)\n",
      "  Number Of Arrays: 2\n",
      "  Array 0 name = p\n",
      "  Array 1 name = U\n",
      "  Number Of Components: 4\n",
      "  Number Of Tuples: 882\n",
      "  Copy Tuple Flags: ( 1 1 1 1 1 0 1 1 )\n",
      "  Interpolate Flags: ( 1 1 1 1 1 0 0 1 )\n",
      "  Pass Through Flags: ( 1 1 1 1 1 1 1 1 )\n",
      "  Scalars: (none)\n",
      "  Vectors: (none)\n",
      "  Normals: (none)\n",
      "  TCoords: (none)\n",
      "  Tensors: (none)\n",
      "  GlobalIds: (none)\n",
      "  PedigreeIds: (none)\n",
      "  EdgeFlag: (none)\n",
      "\n",
      "\n"
     ]
    }
   ],
   "source": [
    "nodes_array = reader.GetOutput().GetPoints().GetData()\n",
    "data_arrays = reader.GetOutput().GetPointData()\n",
    "print data_arrays\n",
    "pressure_vtk_array = data_arrays.GetArray(0) \n",
    "speed_vtk_array = data_arrays.GetArray(1)"
   ]
  },
  {
   "cell_type": "code",
   "execution_count": null,
   "metadata": {
    "collapsed": true
   },
   "outputs": [],
   "source": []
  }
 ],
 "metadata": {
  "kernelspec": {
   "display_name": "Python 2",
   "language": "python",
   "name": "python2"
  },
  "language_info": {
   "codemirror_mode": {
    "name": "ipython",
    "version": 2
   },
   "file_extension": ".py",
   "mimetype": "text/x-python",
   "name": "python",
   "nbconvert_exporter": "python",
   "pygments_lexer": "ipython2",
   "version": "2.7.3"
  }
 },
 "nbformat": 4,
 "nbformat_minor": 1
}
