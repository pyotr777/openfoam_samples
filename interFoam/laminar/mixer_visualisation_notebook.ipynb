{
 "cells": [
  {
   "cell_type": "markdown",
   "metadata": {},
   "source": [
    "# multiphase/interFoam/laminar/mixerVessel2D\n"
   ]
  },
  {
   "cell_type": "code",
   "execution_count": 1,
   "metadata": {
    "collapsed": false
   },
   "outputs": [],
   "source": [
    "%matplotlib inline\n",
    "import numpy as np\n",
    "from vtk.util.numpy_support import vtk_to_numpy\n",
    "import matplotlib.pyplot as plt\n",
    "from scipy.interpolate import griddata\n",
    "import vtk\n",
    "import matplotlib as mpl\n",
    "from mpl_toolkits.mplot3d import Axes3D\n"
   ]
  },
  {
   "cell_type": "code",
   "execution_count": 59,
   "metadata": {
    "collapsed": true
   },
   "outputs": [],
   "source": [
    "def plotPolar(nodes, a, vmin=0, vmax=0):\n",
    "    color_map = plt.cm.get_cmap('seismic')\n",
    "    ax = plt.subplot(111, projection='polar')\n",
    "    print\"Shapes: {} {} {}\".format(nodes[:,0].shape, nodes[:,1].shape, a.shape)\n",
    "    ax.plot(nodes[:,0], nodes[:,1], \n",
    "            color=a, \n",
    "            cmap = color_map)\n",
    "    ax.set_rmax(2.0)\n",
    "    ax.grid(True)\n",
    "\n",
    "    ax.set_title(\"A line plot on a polar axis\", va='bottom')\n",
    "    plt.show()"
   ]
  },
  {
   "cell_type": "code",
   "execution_count": 112,
   "metadata": {
    "collapsed": false
   },
   "outputs": [
    {
     "name": "stdout",
     "output_type": "stream",
     "text": [
      "back\n",
      "front\n",
      "mixerVessel2D_0.vtk\n",
      "mixerVessel2D_138.vtk\n",
      "mixerVessel2D_175.vtk\n",
      "mixerVessel2D_212.vtk\n",
      "mixerVessel2D_246.vtk\n",
      "mixerVessel2D_277.vtk\n",
      "mixerVessel2D_305.vtk\n",
      "mixerVessel2D_331.vtk\n",
      "mixerVessel2D_355.vtk\n",
      "mixerVessel2D_377.vtk\n"
     ]
    }
   ],
   "source": [
    "import os\n",
    "files = os.listdir(\"out/VTK/\")\n",
    "for f in files[:12]:\n",
    "    print(f)"
   ]
  },
  {
   "cell_type": "code",
   "execution_count": 104,
   "metadata": {
    "collapsed": true
   },
   "outputs": [],
   "source": [
    "def plot3D(nodes, a, vmin=0, vmax=0):\n",
    "    print\"Shapes: {} {} {}\".format(nodes[:,0].shape, nodes[:,1].shape, a.shape)\n",
    "    color_map = plt.cm.get_cmap('plasma')\n",
    "    fig = plt.figure(figsize=(14,10))\n",
    "    ax = fig.add_subplot(111, projection='3d')\n",
    "    if vmax==0 and vmin==0:\n",
    "        vmin = np.amin(a)\n",
    "        vmax = np.amax(a)\n",
    "    splt = ax.scatter(nodes[:,0],nodes[:,1],nodes[:,2],s=60,\n",
    "                   c = a,\n",
    "                   cmap = color_map,\n",
    "                   vmin = vmin,\n",
    "                   vmax = vmax,\n",
    "                   marker='o')\n",
    "    ax.set_xlabel('X')\n",
    "    ax.set_ylabel('Y')\n",
    "    ax.set_zlabel('Z')\n",
    "    fig.colorbar(splt, shrink=0.5)\n",
    "    plt.show()"
   ]
  },
  {
   "cell_type": "code",
   "execution_count": 110,
   "metadata": {
    "collapsed": true
   },
   "outputs": [],
   "source": [
    "def getData(filename):\n",
    "    # load a vtk file as input\n",
    "    reader = vtk.vtkUnstructuredGridReader()\n",
    "    reader.SetFileName(filename)\n",
    "    reader.Update()\n",
    "    vtk_arrays= reader.GetOutput().GetPointData()\n",
    "    #print vtk_nodes\n",
    "    print vtk_arrays\n",
    "    return vtk_arrays\n",
    "\n",
    "def getNodes(filename):\n",
    "    # load a vtk file as input\n",
    "    reader = vtk.vtkUnstructuredGridReader()\n",
    "    reader.SetFileName(filename)\n",
    "    reader.Update()\n",
    "    print reader.GetOutput().GetPoints()\n",
    "    # Get the coordinates of nodes in the mesh\n",
    "    nodes_vtk_array= reader.GetOutput().GetPoints().GetData()  \n",
    "    nodes = vtk_to_numpy(nodes_vtk_array)\n",
    "    return nodes"
   ]
  },
  {
   "cell_type": "code",
   "execution_count": 113,
   "metadata": {
    "collapsed": false
   },
   "outputs": [
    {
     "name": "stdout",
     "output_type": "stream",
     "text": [
      "vtkPointData (0x368fb40)\n",
      "  Debug: Off\n",
      "  Modified Time: 14895\n",
      "  Reference Count: 2\n",
      "  Registered Events: (none)\n",
      "  Number Of Arrays: 4\n",
      "  Array 0 name = p\n",
      "  Array 1 name = alpha.water\n",
      "  Array 2 name = p_rgh\n",
      "  Array 3 name = U\n",
      "  Number Of Components: 6\n",
      "  Number Of Tuples: 6528\n",
      "  Copy Tuple Flags: ( 1 1 1 1 1 0 1 1 )\n",
      "  Interpolate Flags: ( 1 1 1 1 1 0 0 1 )\n",
      "  Pass Through Flags: ( 1 1 1 1 1 1 1 1 )\n",
      "  Scalars: (none)\n",
      "  Vectors: (none)\n",
      "  Normals: (none)\n",
      "  TCoords: (none)\n",
      "  Tensors: (none)\n",
      "  GlobalIds: (none)\n",
      "  PedigreeIds: (none)\n",
      "  EdgeFlag: (none)\n",
      "\n",
      "\n",
      "vtkPoints (0x3135ca0)\n",
      "  Debug: Off\n",
      "  Modified Time: 15051\n",
      "  Reference Count: 2\n",
      "  Registered Events: (none)\n",
      "  Data: 0x3135b20\n",
      "  Data Array Name: Points\n",
      "  Number Of Points: 6528\n",
      "  Bounds: \n",
      "    Xmin,Xmax: (-2.76488e+38, 2.25412e+38)\n",
      "    Ymin,Ymax: (-2.76488e+38, 2.25412e+38)\n",
      "    Zmin,Zmax: (0, 2.0717e-32)\n",
      "\n",
      "\n",
      "[[  2.07651488e-32   0.00000000e+00   0.00000000e+00]\n",
      " [  6.19232506e-02   6.38768400e+07   0.00000000e+00]\n",
      " [  3.58572197e-06   6.40683803e+11   0.00000000e+00]\n",
      " ..., \n",
      " [  1.30917092e+23   7.91929561e+24   2.07170006e-32]\n",
      " [  5.63175598e+02  -6.05995661e-15   2.07170006e-32]\n",
      " [ -1.70096442e-31   4.42229205e-20   2.07170006e-32]]\n",
      "[ -5.99059767e+28  -3.95587285e+24   2.24470775e-27 ...,   4.60060299e-41\n",
      "   4.60060299e-41   4.60060299e-41]\n",
      "-3.39753989868e+38 - 3.3883921263e+38\n",
      "(6528,)\n"
     ]
    }
   ],
   "source": [
    "filename = \"out/VTK/mixerVessel2D_54.vtk\"\n",
    "#nodes, p , U   = getData_pvm(filename)\n",
    "vtk_data = getData(filename)\n",
    "nodes = getNodes(filename)\n",
    "print nodes\n",
    "p = vtk_to_numpy(vtk_data.GetArray(0))\n",
    "#print p\n",
    "alpha = vtk_to_numpy(vtk_data.GetArray(1))\n",
    "print alpha\n",
    "p_rgh = vtk_to_numpy(vtk_data.GetArray(2))\n",
    "U = vtk_to_numpy(vtk_data.GetArray(3))\n",
    "a = alpha\n",
    "\n",
    "vmin = np.nanmin(a)\n",
    "vmax = np.nanmax(a)\n",
    "print \"{} - {}\".format(vmin,vmax)\n",
    "print a.shape\n",
    "\n"
   ]
  },
  {
   "cell_type": "code",
   "execution_count": 103,
   "metadata": {
    "collapsed": true
   },
   "outputs": [],
   "source": [
    "def extractFlatData(nodes, a, U):\n",
    "    merged = np.empty([len(nodes),6])\n",
    "    merged[:,0] = a\n",
    "    merged[:,1:3] = U[:,:2]\n",
    "    merged[:,3:] = nodes\n",
    "    # Merged z0 and z1 arrays should be same because of \n",
    "    # the model symmetry along z-axis\n",
    "    merged_z0 = merged[np.where(merged[:,5] == 0)]\n",
    "    merged_z1 = merged[np.where(merged[:,5] != 0)]\n",
    "    # Extract nodes, p and U arrays from z0 array\n",
    "    a = merged_z0[:,0]\n",
    "    U = merged_z0[:,1:3]\n",
    "    nodes = merged_z0[:,3:5]\n",
    "    return nodes, a, U\n",
    "\n",
    "def plot2D(nodes, a, vmin, vmax):     \n",
    "    # 2d plotting\n",
    "    fig = plt.figure(figsize=(8,6))\n",
    "    cmap = mpl.cm.seismic\n",
    "    color_map = plt.cm.get_cmap('plasma')\n",
    "    axes = plt.gca()\n",
    "    #axes.set_xlim([-.1,2.1])\n",
    "    #axes.set_ylim([-.01,0.11])\n",
    "    #plt.axis('off')\n",
    "    sc = plt.scatter(nodes[:,0],nodes[:,1],\n",
    "                     s=320,\n",
    "#                     color=cmap(a / a_max),\n",
    "                     c = a,\n",
    "                     cmap = color_map,\n",
    "                     vmin = vmin,\n",
    "                     vmax = vmax,\n",
    "                     linewidth=0, \n",
    "                     marker=\"s\")\n",
    "    plt.colorbar(sc)\n",
    "    fig.tight_layout()"
   ]
  },
  {
   "cell_type": "code",
   "execution_count": 109,
   "metadata": {
    "collapsed": false
   },
   "outputs": [
    {
     "data": {
      "image/png": "[encoded data removed]",
      "text/plain": [
       "<matplotlib.figure.Figure at 0x7fabeb0ee890>"
      ]
     },
     "metadata": {},
     "output_type": "display_data"
    }
   ],
   "source": [
    "nodes_half, a_half, U_half = extractFlatData(nodes, a, U)\n",
    "plot2D(nodes_half,a_half, vmin, vmax)"
   ]
  },
  {
   "cell_type": "code",
   "execution_count": null,
   "metadata": {
    "collapsed": true
   },
   "outputs": [],
   "source": [
    "R = nodes[:,0]\n",
    "P = nodes[:,1]\n",
    "X, Y = R*np.cos(P), R*np.sin(P)\n",
    "C = np.stack((X,Y,nodes[:,2]), axis=-1)\n",
    "plot3D(C, a, vmin, vmax)\n",
    "plot3D(nodes, a, vmin, vmax)\n",
    "#plotPolar(nodes, a, vmin, vmax)"
   ]
  },
  {
   "cell_type": "code",
   "execution_count": null,
   "metadata": {
    "collapsed": true
   },
   "outputs": [],
   "source": []
  }
 ],
 "metadata": {
  "kernelspec": {
   "display_name": "Python 2",
   "language": "python",
   "name": "python2"
  },
  "language_info": {
   "codemirror_mode": {
    "name": "ipython",
    "version": 2
   },
   "file_extension": ".py",
   "mimetype": "text/x-python",
   "name": "python",
   "nbconvert_exporter": "python",
   "pygments_lexer": "ipython2",
   "version": "2.7.9"
  }
 },
 "nbformat": 4,
 "nbformat_minor": 1
}
