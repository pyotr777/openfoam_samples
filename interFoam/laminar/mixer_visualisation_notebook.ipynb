{
 "cells": [
  {
   "cell_type": "markdown",
   "metadata": {},
   "source": [
    "# multiphase/interFoam/laminar/mixerVessel2D\n"
   ]
  },
  {
   "cell_type": "code",
   "execution_count": 1,
   "metadata": {
    "collapsed": false
   },
   "outputs": [
    {
     "name": "stderr",
     "output_type": "stream",
     "text": [
      "/usr/local/lib/python2.7/dist-packages/matplotlib/font_manager.py:273: UserWarning: Matplotlib is building the font cache using fc-list. This may take a moment.\n",
      "  warnings.warn('Matplotlib is building the font cache using fc-list. This may take a moment.')\n"
     ]
    }
   ],
   "source": [
    "%matplotlib inline\n",
    "import numpy as np\n",
    "from vtk.util.numpy_support import vtk_to_numpy\n",
    "import matplotlib.pyplot as plt\n",
    "from scipy.interpolate import griddata\n",
    "import vtk\n",
    "import matplotlib as mpl\n",
    "from mpl_toolkits.mplot3d import Axes3D\n"
   ]
  },
  {
   "cell_type": "code",
   "execution_count": 2,
   "metadata": {
    "collapsed": true
   },
   "outputs": [],
   "source": [
    "def getData(filename):\n",
    "    # load a vtk file as input\n",
    "    reader = vtk.vtkUnstructuredGridReader()\n",
    "    reader.SetFileName(filename)\n",
    "    reader.Update()\n",
    "    vtk_nodes = reader.GetOutput().GetPoints()\n",
    "    vat_arrays= reader.GetOutput().GetPointData()\n",
    "    print vtk_nodes\n",
    "    print vtk_arrays\n",
    "    return vtk_nodes, vtk_arrays"
   ]
  },
  {
   "cell_type": "code",
   "execution_count": 4,
   "metadata": {
    "collapsed": true
   },
   "outputs": [],
   "source": [
    "def plot3D(nodes, a, vmin=0, vmax=0):\n",
    "    cmap = mpl.cm.seismic\n",
    "    color_map = plt.cm.get_cmap('seismic')\n",
    "    fig = plt.figure(figsize=(14,10))\n",
    "    ax = fig.add_subplot(111, projection='3d')\n",
    "    if vmax==0 and vmin==0:\n",
    "        vmin = np.amin(a)\n",
    "        vmax = np.amax(a)\n",
    "    splt = ax.scatter(nodes[:,0],nodes[:,1],nodes[:,2],s=60,\n",
    "                   c = a,\n",
    "                   cmap = color_map,\n",
    "                   vmin = vmin,\n",
    "                   vmax = vmax,\n",
    "                   marker='o')\n",
    "    ax.set_xlabel('X')\n",
    "    ax.set_ylabel('Y')\n",
    "    ax.set_zlabel('Z')\n",
    "    fig.colorbar(splt, shrink=0.5)\n",
    "    plt.show()"
   ]
  },
  {
   "cell_type": "code",
   "execution_count": 6,
   "metadata": {
    "collapsed": false
   },
   "outputs": [
    {
     "name": "stdout",
     "output_type": "stream",
     "text": [
      "0\n",
      "0.125\n",
      "0.25\n",
      "0.375\n",
      "0.5\n",
      "0.625\n",
      "0.75\n",
      "0.875\n",
      "1\n",
      "1.125\n",
      "1.25\n",
      "1.375\n",
      "1.5\n",
      "1.625\n",
      "1.75\n"
     ]
    }
   ],
   "source": [
    "import os\n",
    "files = os.listdir(\"mixerVessel2D\")\n",
    "for f in files[:15]:\n",
    "    print(f)"
   ]
  },
  {
   "cell_type": "code",
   "execution_count": null,
   "metadata": {
    "collapsed": true
   },
   "outputs": [],
   "source": [
    "filename = \"ppWall_60.vtk\"\n",
    "#nodes, p , U   = getData_pvm(filename)\n",
    "nodes, data = getData(filename)\n",
    "print(np.amin(p),np.amax(p))\n",
    "#vmin = -4e-06\n",
    "#vmax = 6e-06\n",
    "#plot3D(nodes,p, vmin, vmax)"
   ]
  }
 ],
 "metadata": {
  "kernelspec": {
   "display_name": "Python 2",
   "language": "python",
   "name": "python2"
  },
  "language_info": {
   "codemirror_mode": {
    "name": "ipython",
    "version": 2
   },
   "file_extension": ".py",
   "mimetype": "text/x-python",
   "name": "python",
   "nbconvert_exporter": "python",
   "pygments_lexer": "ipython2",
   "version": "2.7.9"
  }
 },
 "nbformat": 4,
 "nbformat_minor": 1
}
